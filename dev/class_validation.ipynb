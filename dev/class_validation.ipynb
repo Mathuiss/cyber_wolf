{
 "metadata": {
  "language_info": {
   "codemirror_mode": {
    "name": "ipython",
    "version": 3
   },
   "file_extension": ".py",
   "mimetype": "text/x-python",
   "name": "python",
   "nbconvert_exporter": "python",
   "pygments_lexer": "ipython3",
   "version": "3.8.5"
  },
  "orig_nbformat": 2,
  "kernelspec": {
   "name": "python385jvsc74a57bd031f2aee4e71d21fbe5cf8b01ff0e069b9275f58929596ceb00d14d90e3e16cd6",
   "display_name": "Python 3.8.5 64-bit"
  },
  "metadata": {
   "interpreter": {
    "hash": "31f2aee4e71d21fbe5cf8b01ff0e069b9275f58929596ceb00d14d90e3e16cd6"
   }
  }
 },
 "nbformat": 4,
 "nbformat_minor": 2,
 "cells": [
  {
   "cell_type": "code",
   "execution_count": null,
   "metadata": {},
   "outputs": [],
   "source": [
    "import os\n",
    "from tensorflow import keras\n",
    "from tensorflow.keras.models import load_model\n",
    "import class_preprocessor\n",
    "import numpy as np"
   ]
  },
  {
   "cell_type": "code",
   "execution_count": null,
   "metadata": {},
   "outputs": [],
   "source": [
    "ADVERSARIAL_PATH = \"/home/mathuis/Development/cyber_wolf/data/adversarial\"\n",
    "MODEL_PATH = \"/home/mathuis/Development/cyber_wolf/data\"\n",
    "# MODEL_NAME = \"1h-4n-e20-b64-class-model.h5\"\n",
    "MODEL_NAME = \"best-class-model.h5\""
   ]
  },
  {
   "cell_type": "code",
   "execution_count": null,
   "metadata": {},
   "outputs": [],
   "source": [
    "def get_values_plaintext(request, i):\n",
    "    line = request[i].strip()\n",
    "\n",
    "    values = []\n",
    "\n",
    "    # In query\n",
    "    if i == 0:\n",
    "        values = class_preprocessor.split_query(line)\n",
    "\n",
    "    # In header\n",
    "    if \": \" in line:\n",
    "        values = class_preprocessor.split_header(line)\n",
    "\n",
    "    # In body\n",
    "    if line != \"\\n\" and \"\\n\" in request[0:i]:\n",
    "        values = class_preprocessor.split_body(line)\n",
    "\n",
    "    return values\n",
    "\n",
    "def parse(request):\n",
    "    values = []\n",
    "\n",
    "    for i in range(len(request)):\n",
    "        arr_val = get_values_plaintext(request, i)\n",
    "        for val in arr_val:\n",
    "            values.append(val)\n",
    "    \n",
    "    return values\n",
    "\n",
    "def evaluate(values, features):\n",
    "    list_mse = []\n",
    "\n",
    "    for i in range(len(values)):\n",
    "        x_row = features[i]\n",
    "        val = values[i]\n",
    "\n",
    "        x = x_row.reshape((-1,48))\n",
    "\n",
    "        print(val)\n",
    "        e = model.evaluate(x, x)\n",
    "        list_mse.append(e[0])\n",
    "\n",
    "    return list_mse"
   ]
  },
  {
   "cell_type": "code",
   "execution_count": null,
   "metadata": {},
   "outputs": [],
   "source": [
    "model = load_model(f\"{MODEL_PATH}/models/{MODEL_NAME}\")\n",
    "class_preprocessor.load_ignorefile()"
   ]
  },
  {
   "cell_type": "code",
   "execution_count": null,
   "metadata": {
    "tags": [
     "outputPrepend"
    ]
   },
   "outputs": [],
   "source": [
    "for file_name in os.listdir(ADVERSARIAL_PATH):\n",
    "    print(\"#################################################\")\n",
    "    print(file_name)\n",
    "    print(\"#################################################\")\n",
    "\n",
    "    request = class_preprocessor.read_file_content(f\"{ADVERSARIAL_PATH}/{file_name}\")\n",
    "    values = parse(request)\n",
    "    features = class_preprocessor.preprocess(request)\n",
    "    list_mse = evaluate(values, features)\n",
    "\n",
    "    mean = sum(list_mse) / len(list_mse)\n",
    "    std_dev = np.std(list_mse)\n",
    "    threshold_flag = mean + std_dev\n",
    "    threshold_block = threshold_flag + std_dev\n",
    "\n",
    "    print(\"#################################################\")\n",
    "    print(f\"AVG MSE: {mean}\")\n",
    "    print(f\"STD DEV: {std_dev}\")\n",
    "    print(f\"THRESHF: {threshold_flag}\")\n",
    "    print(f\"THRESHB: {threshold_block}\")\n",
    "    print(\"#################################################\")"
   ]
  },
  {
   "cell_type": "code",
   "execution_count": null,
   "metadata": {},
   "outputs": [],
   "source": []
  }
 ]
}