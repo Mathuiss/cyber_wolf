{
 "metadata": {
  "language_info": {
   "codemirror_mode": {
    "name": "ipython",
    "version": 3
   },
   "file_extension": ".py",
   "mimetype": "text/x-python",
   "name": "python",
   "nbconvert_exporter": "python",
   "pygments_lexer": "ipython3",
   "version": "3.8.5"
  },
  "orig_nbformat": 2,
  "kernelspec": {
   "name": "python385jvsc74a57bd031f2aee4e71d21fbe5cf8b01ff0e069b9275f58929596ceb00d14d90e3e16cd6",
   "display_name": "Python 3.8.5 64-bit"
  },
  "metadata": {
   "interpreter": {
    "hash": "31f2aee4e71d21fbe5cf8b01ff0e069b9275f58929596ceb00d14d90e3e16cd6"
   }
  }
 },
 "nbformat": 4,
 "nbformat_minor": 2,
 "cells": [
  {
   "cell_type": "code",
   "execution_count": null,
   "metadata": {},
   "outputs": [],
   "source": [
    "from tensorflow import keras\n",
    "from tensorflow.keras import layers\n",
    "from matplotlib import pyplot\n",
    "import numpy as np"
   ]
  },
  {
   "cell_type": "code",
   "execution_count": null,
   "metadata": {},
   "outputs": [],
   "source": [
    "DATA_PATH = \"/home/mathuis/Development/cyber_wolf/data\"\n",
    "HL_SIZE = 12"
   ]
  },
  {
   "cell_type": "code",
   "execution_count": null,
   "metadata": {},
   "outputs": [],
   "source": [
    "def load_data(path: str):\n",
    "    print(\"Loading data\")\n",
    "    return np.load(path, allow_pickle=True)\n",
    "\n",
    "\n",
    "def build_model():\n",
    "    print(\"Building model\")\n",
    "    \n",
    "    input_layer = layers.Input(shape=(98,))\n",
    "    encoded = layers.Dense(HL_SIZE, activation=\"relu\")(input_layer)\n",
    "    decoded = layers.Dense(98, activation=\"relu\")(encoded)\n",
    "\n",
    "    model = keras.Model(input_layer, decoded)    \n",
    "\n",
    "    return model\n",
    "\n",
    "def train_model(model, x_train, x_test):\n",
    "    print(\"Compiling model\")\n",
    "    model.compile(optimizer=\"adam\", loss=\"mse\", metrics=[\"mse\", \"msle\", \"mae\", \"mape\", \"cosine_similarity\"])\n",
    "    print(\"Training model\")\n",
    "    return model.fit(x_train, x_train, epochs=6, batch_size=32, validation_data=(x_test, x_test))\n",
    "\n",
    "\n",
    "def plot(history):\n",
    "    print(history.keys())\n",
    "\n",
    "    for key in history.keys():\n",
    "        if not key.startswith(\"val_\"):\n",
    "            pyplot.plot()\n",
    "\n",
    "            pyplot.title(key)\n",
    "            pyplot.plot(history[key], label=\"train\")\n",
    "            pyplot.plot(history[f\"val_{key}\"], label=\"test\")\n",
    "            pyplot.xlabel(\"Epoch\")\n",
    "            pyplot.ylabel(key)\n",
    "            pyplot.legend()\n",
    "\n",
    "            pyplot.show()\n",
    "\n",
    "def evaluate_model(model, x_test):\n",
    "    results = model.evaluate(x_test, x_test)\n",
    "    print(f\"Test Loss: {results}\")"
   ]
  },
  {
   "cell_type": "code",
   "execution_count": null,
   "metadata": {},
   "outputs": [],
   "source": [
    "x_train = load_data(f\"{DATA_PATH}/datasets/x_train.npy\")\n",
    "x_test = load_data(f\"{DATA_PATH}/datasets/x_test.npy\")\n",
    "    "
   ]
  },
  {
   "cell_type": "code",
   "execution_count": null,
   "metadata": {},
   "outputs": [],
   "source": [
    "model = build_model()\n",
    "model.summary()"
   ]
  },
  {
   "cell_type": "code",
   "execution_count": null,
   "metadata": {},
   "outputs": [],
   "source": [
    "res = train_model(model, x_train, x_test)"
   ]
  },
  {
   "cell_type": "code",
   "execution_count": null,
   "metadata": {},
   "outputs": [],
   "source": [
    "# print(res.history.keys())\n",
    "plot(res.history)"
   ]
  },
  {
   "cell_type": "code",
   "execution_count": null,
   "metadata": {},
   "outputs": [],
   "source": [
    "evaluate_model(model, x_test[:1])"
   ]
  },
  {
   "cell_type": "code",
   "execution_count": null,
   "metadata": {},
   "outputs": [],
   "source": [
    "pred = model.predict(x_test)\n",
    "print(x_test[0])\n",
    "print(pred[0])"
   ]
  },
  {
   "cell_type": "code",
   "execution_count": null,
   "metadata": {},
   "outputs": [],
   "source": [
    "# model.save(f\"{DATA_PATH}/models/1h-12n-6e-b32-mse_loss-notnorm-model.h5\")"
   ]
  },
  {
   "cell_type": "code",
   "execution_count": null,
   "metadata": {},
   "outputs": [],
   "source": []
  }
 ]
}