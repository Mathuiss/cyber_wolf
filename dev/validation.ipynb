{
 "metadata": {
  "orig_nbformat": 2,
  "kernelspec": {
   "name": "python3",
   "display_name": "Python 3",
   "language": "python"
  }
 },
 "nbformat": 4,
 "nbformat_minor": 2,
 "cells": [
  {
   "cell_type": "code",
   "execution_count": 9,
   "metadata": {},
   "outputs": [],
   "source": [
    "import os\n",
    "from tensorflow import keras\n",
    "from tensorflow.keras.models import load_model\n",
    "import preprocessor"
   ]
  },
  {
   "cell_type": "code",
   "execution_count": 13,
   "metadata": {},
   "outputs": [],
   "source": [
    "ADVERSARIAL_PATH = \"/home/mathuis/Development/cyber_wolf/data/adversarial\"\n",
    "MODEL_PATH = \"/home/mathuis/Development/cyber_wolf/data\"\n",
    "MODEL_NAME = \"1h-13n-8e-notnorm-model.h5\""
   ]
  },
  {
   "cell_type": "code",
   "execution_count": 14,
   "metadata": {},
   "outputs": [],
   "source": [
    "def read_file(path):\n",
    "    with open(path, \"r\") as f:\n",
    "        return f.readlines()\n"
   ]
  },
  {
   "cell_type": "code",
   "execution_count": 16,
   "metadata": {},
   "outputs": [
    {
     "output_type": "stream",
     "name": "stdout",
     "text": [
      "Preprocessing request\n",
      "POST /EditPosition?handler=Buy HTTP/1.1\n",
      "ClientId=3&FundTag=SRI&Ticker=D5BK&Amount=1.1686172&Price=28.73&__RequestVerificationToken=CfDJ8OIrtYvy4zBHhhHh0UxuXIBp84m1io11DwqUblVrp8CubOxRzCjHPdrP7TRanFoom4w0I4TA2eH9IfrIjS1UnB8q9o5i8lPomHy8oJxH1b2Qw3qEbmHWLoD3otMfOw-YbkcN_zzSIkGECrk3wSfIpmo\n",
      "2/2 [==============================] - 1s 10ms/step - loss: 0.0421 - mse: 1.1977 - msle: 0.0421 - mae: 0.1257 - mape: 4291632.5000 - cosine_similarity: 0.9523\n",
      "[0.04214146360754967, 1.197690725326538, 0.042141467332839966, 0.12565255165100098, 4291632.5, 0.9522945880889893]\n",
      "[[0.         0.34354138 0.         ... 0.         0.         0.        ]\n",
      " [0.         0.25375634 0.         ... 0.         0.         0.        ]\n",
      " [0.         0.44841975 0.         ... 0.         0.         0.        ]\n",
      " ...\n",
      " [0.         0.46693987 0.         ... 0.         0.         0.        ]\n",
      " [0.         0.46693987 0.         ... 0.         0.         0.        ]\n",
      " [0.         0.46693987 0.         ... 0.         0.         0.        ]]\n",
      "Preprocessing request\n",
      "POST /EditPosition?handler=%3CSCRIPT%20type%3D%22text%2Fjavascript%22%3Evar%20adr%20%3D%20%27..%2Fevil.php%3Fcakemonster%3D%27%20%2B%20escape%28document.cookie%29%3B%3C%2FSCRIPT%3E HTTP/1.1\n",
      "ClientId=%3CSCRIPT%20type%3D%22text%2Fjavascript%22%3Evar%20adr%20%3D%20%27..%2Fevil.php%3Fcakemonster%3D%27%20%2B%20escape%28document.cookie%29%3B%3C%2FSCRIPT%3E&FundTag=SRI&Ticker=D5BK&Amount=1.1686172&Price=28.73&__RequestVerificationToken=CfDJ8OIrtYvy4zBHhhHh0UxuXIBp84m1io11DwqUblVrp8CubOxRzCjHPdrP7TRanFoom4w0I4TA2eH9IfrIjS1UnB8q9o5i8lPomHy8oJxH1b2Qw3qEbmHWLoD3otMfOw-YbkcN_zzSIkGECrk3wSfIpmo\n",
      "7/7 [==============================] - 0s 2ms/step - loss: 0.0395 - mse: 0.9167 - msle: 0.0395 - mae: 0.1072 - mape: 9825147.0000 - cosine_similarity: 0.6783\n",
      "[0.039486512541770935, 0.9166714549064636, 0.039486512541770935, 0.10722863674163818, 9825147.0, 0.6783465147018433]\n",
      "[[0.         0.37110132 0.         ... 0.         0.         0.        ]\n",
      " [0.         0.34024283 0.         ... 0.         0.         0.        ]\n",
      " [0.         0.592129   0.         ... 0.         0.         0.        ]\n",
      " ...\n",
      " [0.         0.         0.         ... 0.         0.         0.        ]\n",
      " [0.         0.         0.         ... 0.         0.         0.        ]\n",
      " [0.         0.         0.         ... 0.         0.         0.        ]]\n"
     ]
    }
   ],
   "source": [
    "model = load_model(f\"{MODEL_PATH}/{MODEL_NAME}\")\n",
    "\n",
    "\n",
    "\n",
    "for file_name in os.listdir(ADVERSARIAL_PATH):\n",
    "    request = read_file(f\"{ADVERSARIAL_PATH}/{file_name}\")\n",
    "\n",
    "    # Preprocessing request to np array\n",
    "    x = preprocessor.preprocess(request)\n",
    "\n",
    "    e = model.evaluate(x, x)\n",
    "    r = model.predict(x)\n",
    "    print(e)\n",
    "    print(r)\n",
    "\n",
    "\n",
    "# Evaluathe the model based on requests"
   ]
  },
  {
   "cell_type": "code",
   "execution_count": null,
   "metadata": {},
   "outputs": [],
   "source": []
  }
 ]
}