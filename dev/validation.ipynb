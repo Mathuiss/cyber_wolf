{
 "metadata": {
  "orig_nbformat": 2,
  "kernelspec": {
   "name": "python3",
   "display_name": "Python 3",
   "language": "python"
  }
 },
 "nbformat": 4,
 "nbformat_minor": 2,
 "cells": [
  {
   "cell_type": "code",
   "execution_count": null,
   "metadata": {},
   "outputs": [],
   "source": [
    "import os\n",
    "from tensorflow import keras\n",
    "from tensorflow.keras.models import load_model\n",
    "import preprocessor"
   ]
  },
  {
   "cell_type": "code",
   "execution_count": null,
   "metadata": {},
   "outputs": [],
   "source": [
    "ADVERSARIAL_PATH = \"/home/mathuis/Development/cyber_wolf/data/adversarial\"\n",
    "MODEL_PATH = \"/home/mathuis/Development/cyber_wolf/data\"\n",
    "MODEL_NAME = \"1h-13n-8e-notnorm-model.h5\""
   ]
  },
  {
   "cell_type": "code",
   "execution_count": null,
   "metadata": {},
   "outputs": [],
   "source": [
    "def read_file(path):\n",
    "    with open(path, \"r\") as f:\n",
    "        return f.readlines()\n"
   ]
  },
  {
   "cell_type": "code",
   "execution_count": 12,
   "metadata": {
    "tags": []
   },
   "outputs": [
    {
     "output_type": "stream",
     "name": "stdout",
     "text": [
      "xss-query\n",
      "Preprocessing request\n",
      "POST /EditPosition?handler=%3CSCRIPT%20type%3D%22text%2Fjavascript%22%3Evar%20adr%20%3D%20%27..%2Fevil.php%3Fcakemonster%3D%27%20%2B%20escape%28document.cookie%29%3B%3C%2FSCRIPT%3E HTTP/1.1\n",
      "ClientId=3&FundTag=SRI&Ticker=D5BK&Amount=1.1686172&Price=28.73&__RequestVerificationToken=CfDJ8OIrtYvy4zBHhhHh0UxuXIBp84m1io11DwqUblVrp8CubOxRzCjHPdrP7TRanFoom4w0I4TA2eH9IfrIjS1UnB8q9o5i8lPomHy8oJxH1b2Qw3qEbmHWLoD3otMfOw-YbkcN_zzSIkGECrk3wSfIpmo\n",
      "(207, 98)\n",
      "norm.http\n",
      "Preprocessing request\n",
      "POST /EditPosition?handler=Buy HTTP/1.1\n",
      "ClientId=3&FundTag=SRI&Ticker=D5BK&Amount=1.1686172&Price=28.73&__RequestVerificationToken=CfDJ8OIrtYvy4zBHhhHh0UxuXIBp84m1io11DwqUblVrp8CubOxRzCjHPdrP7TRanFoom4w0I4TA2eH9IfrIjS1UnB8q9o5i8lPomHy8oJxH1b2Qw3qEbmHWLoD3otMfOw-YbkcN_zzSIkGECrk3wSfIpmo\n",
      "(57, 98)\n",
      "xss.http\n",
      "Preprocessing request\n",
      "POST /EditPosition?handler=%3CSCRIPT%20type%3D%22text%2Fjavascript%22%3Evar%20adr%20%3D%20%27..%2Fevil.php%3Fcakemonster%3D%27%20%2B%20escape%28document.cookie%29%3B%3C%2FSCRIPT%3E HTTP/1.1\n",
      "ClientId=%3CSCRIPT%20type%3D%22text%2Fjavascript%22%3Evar%20adr%20%3D%20%27..%2Fevil.php%3Fcakemonster%3D%27%20%2B%20escape%28document.cookie%29%3B%3C%2FSCRIPT%3E&FundTag=SRI&Ticker=D5BK&Amount=1.1686172&Price=28.73&__RequestVerificationToken=CfDJ8OIrtYvy4zBHhhHh0UxuXIBp84m1io11DwqUblVrp8CubOxRzCjHPdrP7TRanFoom4w0I4TA2eH9IfrIjS1UnB8q9o5i8lPomHy8oJxH1b2Qw3qEbmHWLoD3otMfOw-YbkcN_zzSIkGECrk3wSfIpmo\n",
      "(207, 98)\n"
     ]
    }
   ],
   "source": [
    "model = load_model(f\"{MODEL_PATH}/{MODEL_NAME}\")\n",
    "\n",
    "for file_name in os.listdir(ADVERSARIAL_PATH):\n",
    "    print(file_name)\n",
    "    request = read_file(f\"{ADVERSARIAL_PATH}/{file_name}\")\n",
    "\n",
    "    # Preprocessing request to np array\n",
    "    x = preprocessor.preprocess(request)\n",
    "\n",
    "    print(x.shape)\n",
    "\n",
    "    # for x_row in x:\n",
    "    #     x_r = x_row.reshape((-1,98))\n",
    "    #     e = model.evaluate(x_r, x_r)\n",
    "    #     print(e)\n",
    "\n",
    "\n",
    "# Evaluathe the model based on requests"
   ]
  },
  {
   "cell_type": "code",
   "execution_count": null,
   "metadata": {},
   "outputs": [],
   "source": []
  }
 ]
}